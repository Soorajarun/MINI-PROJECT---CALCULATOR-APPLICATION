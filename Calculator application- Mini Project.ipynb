{
 "cells": [
  {
   "cell_type": "code",
   "execution_count": 1,
   "id": "8efa24bd-eaf4-4a76-bc1a-d6598ed1eb5a",
   "metadata": {},
   "outputs": [
    {
     "name": "stdout",
     "output_type": "stream",
     "text": [
      "\n",
      "Simple Command-Line Calculator\n",
      "Choose an operation:\n",
      "1. Addition\n",
      "2. Subtraction\n",
      "3. Multiplication\n",
      "4. Division\n",
      "5. Exit\n"
     ]
    },
    {
     "name": "stdin",
     "output_type": "stream",
     "text": [
      "Enter choice (1/2/3/4/5):  1\n",
      "Enter the first number:  23\n",
      "Enter the second number:  32\n"
     ]
    },
    {
     "name": "stdout",
     "output_type": "stream",
     "text": [
      "23.0 + 32.0 = 55.0\n",
      "\n",
      "Simple Command-Line Calculator\n",
      "Choose an operation:\n",
      "1. Addition\n",
      "2. Subtraction\n",
      "3. Multiplication\n",
      "4. Division\n",
      "5. Exit\n"
     ]
    },
    {
     "name": "stdin",
     "output_type": "stream",
     "text": [
      "Enter choice (1/2/3/4/5):  5\n"
     ]
    },
    {
     "name": "stdout",
     "output_type": "stream",
     "text": [
      "Exiting the calculator. Goodbye!\n"
     ]
    }
   ],
   "source": [
    "# Simple Command-Line Calculator in Python\n",
    "\n",
    "# Function for addition\n",
    "def add(x, y):\n",
    "    return x + y\n",
    "\n",
    "# Function for subtraction\n",
    "def subtract(x, y):\n",
    "    return x - y\n",
    "\n",
    "# Function for multiplication\n",
    "def multiply(x, y):\n",
    "    return x * y\n",
    "\n",
    "# Function for division\n",
    "def divide(x, y):\n",
    "    # Check if denominator is zero\n",
    "    if y == 0:\n",
    "        return \"Error! Division by zero.\"\n",
    "    else:\n",
    "        return x / y\n",
    "\n",
    "# Function to display the menu\n",
    "def display_menu():\n",
    "    print(\"\\nSimple Command-Line Calculator\")\n",
    "    print(\"Choose an operation:\")\n",
    "    print(\"1. Addition\")\n",
    "    print(\"2. Subtraction\")\n",
    "    print(\"3. Multiplication\")\n",
    "    print(\"4. Division\")\n",
    "    print(\"5. Exit\")\n",
    "\n",
    "# Main function to run the calculator\n",
    "def main():\n",
    "    while True:\n",
    "        display_menu()\n",
    "\n",
    "        # Get the user choice for operation\n",
    "        choice = input(\"Enter choice (1/2/3/4/5): \")\n",
    "\n",
    "        # Check if the user wants to exit\n",
    "        if choice == '5':\n",
    "            print(\"Exiting the calculator. Goodbye!\")\n",
    "            break\n",
    "\n",
    "        # Ensure the user enters a valid operation choice\n",
    "        if choice not in ['1', '2', '3', '4']:\n",
    "            print(\"Invalid input! Please select a valid operation.\")\n",
    "            continue\n",
    "\n",
    "        # Get the two numbers from the user\n",
    "        try:\n",
    "            num1 = float(input(\"Enter the first number: \"))\n",
    "            num2 = float(input(\"Enter the second number: \"))\n",
    "        except ValueError:\n",
    "            print(\"Invalid input! Please enter numeric values.\")\n",
    "            continue\n",
    "\n",
    "        # Perform the chosen operation\n",
    "        if choice == '1':\n",
    "            print(f\"{num1} + {num2} = {add(num1, num2)}\")\n",
    "        elif choice == '2':\n",
    "            print(f\"{num1} - {num2} = {subtract(num1, num2)}\")\n",
    "        elif choice == '3':\n",
    "            print(f\"{num1} * {num2} = {multiply(num1, num2)}\")\n",
    "        elif choice == '4':\n",
    "            result = divide(num1, num2)\n",
    "            print(f\"{num1} / {num2} = {result}\")\n",
    "\n",
    "# Run the calculator\n",
    "if __name__ == \"__main__\":\n",
    "    main()\n"
   ]
  }
 ],
 "metadata": {
  "kernelspec": {
   "display_name": "Python 3 (ipykernel)",
   "language": "python",
   "name": "python3"
  },
  "language_info": {
   "codemirror_mode": {
    "name": "ipython",
    "version": 3
   },
   "file_extension": ".py",
   "mimetype": "text/x-python",
   "name": "python",
   "nbconvert_exporter": "python",
   "pygments_lexer": "ipython3",
   "version": "3.12.4"
  }
 },
 "nbformat": 4,
 "nbformat_minor": 5
}
